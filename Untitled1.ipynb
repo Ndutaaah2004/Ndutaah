{
  "nbformat": 4,
  "nbformat_minor": 0,
  "metadata": {
    "colab": {
      "provenance": [],
      "toc_visible": true,
      "authorship_tag": "ABX9TyMH5CdYhdw42RL+w56KH2nu",
      "include_colab_link": true
    },
    "kernelspec": {
      "name": "python3",
      "display_name": "Python 3"
    },
    "language_info": {
      "name": "python"
    }
  },
  "cells": [
    {
      "cell_type": "markdown",
      "metadata": {
        "id": "view-in-github",
        "colab_type": "text"
      },
      "source": [
        "<a href=\"https://colab.research.google.com/github/Ndutaaah2004/Ndutaah/blob/main/Untitled1.ipynb\" target=\"_parent\"><img src=\"https://colab.research.google.com/assets/colab-badge.svg\" alt=\"Open In Colab\"/></a>"
      ]
    },
    {
      "cell_type": "code",
      "execution_count": null,
      "metadata": {
        "id": "U_8VvjWHYtRg"
      },
      "outputs": [],
      "source": [
        "!pip install openpyxl\n",
        "\n",
        "import pandas as pd\n",
        "from sklearn.model_selection import train_test_split\n",
        "\n",
        "zetech = pd.read_excel('/content/ANALYIZING ROAD ACCIDENT SEVERITY (1).xlsx', engine='openpyxl')\n",
        "print(zetech.columns)\n",
        "\n",
        "y = pd.Series(zetech['VARIABLE Y'])\n",
        "x = pd.Series(zetech['VARIABLE X'])\n",
        "\n",
        "X_train, X_test, y_train, y_test = train_test_split(x, y, test_size=0.2, random_state=1)"
      ]
    },
    {
      "cell_type": "code",
      "source": [
        "print(X_train.shape)\n",
        "print(X_test.shape)\n",
        "print(y_train.shape)\n",
        "print(y_test.shape)\n"
      ],
      "metadata": {
        "id": "IKBpruOktQ5U"
      },
      "execution_count": null,
      "outputs": []
    },
    {
      "cell_type": "code",
      "source": [
        "from sklearn.linear_model import LinearRegression\n",
        "regressor=LinearRegression()\n",
        "regressor.fit(X_train,y_train)\n",
        "print(regressor.intercept_)\n",
        "\n",
        "print(regressor.coef_)\n",
        "\n",
        "y_pred=regressor.predict(X_test)\n",
        "\n",
        "df=pd.DataFrame({'Actual':y_test,'Predicted':y_pred})\n",
        "df\n"
      ],
      "metadata": {
        "id": "AyaCYxPwtas4"
      },
      "execution_count": null,
      "outputs": []
    },
    {
      "cell_type": "markdown",
      "source": [],
      "metadata": {
        "id": "6sVFB3hNtwiq"
      }
    }
  ]
}